{
  "nbformat": 4,
  "nbformat_minor": 0,
  "metadata": {
    "colab": {
      "provenance": []
    },
    "kernelspec": {
      "name": "python3",
      "display_name": "Python 3"
    },
    "language_info": {
      "name": "python"
    }
  },
  "cells": [
    {
      "cell_type": "code",
      "execution_count": 2,
      "metadata": {
        "id": "-EP_oMZcD7uL"
      },
      "outputs": [],
      "source": [
        "from sklearn.linear_model import LinearRegression\n",
        "from sklearn.datasets import fetch_california_housing\n",
        "import matplotlib.pyplot as plt\n",
        "from sklearn.model_selection import train_test_split\n",
        "from sklearn.metrics import r2_score, mean_squared_error\n",
        "from sklearn.tree import DecisionTreeRegressor\n",
        "from sklearn.ensemble import RandomForestRegressor\n",
        "from sklearn.ensemble import GradientBoostingRegressor\n",
        "from sklearn.ensemble import RandomForestRegressor\n",
        "from sklearn.linear_model import LinearRegression\n",
        "from sklearn.ensemble import VotingRegressor\n",
        "from sklearn.ensemble import AdaBoostRegressor\n",
        "from sklearn.datasets import make_regression"
      ]
    },
    {
      "cell_type": "code",
      "source": [
        "dataset = fetch_california_housing()\n",
        "x = dataset['data']\n",
        "y = dataset['target']\n",
        "print(x.shape)"
      ],
      "metadata": {
        "colab": {
          "base_uri": "https://localhost:8080/"
        },
        "id": "IeyOlApLE62r",
        "outputId": "d75cb0ab-5972-471c-c30b-df315d48d206"
      },
      "execution_count": 3,
      "outputs": [
        {
          "output_type": "stream",
          "name": "stdout",
          "text": [
            "(20640, 8)\n"
          ]
        }
      ]
    },
    {
      "cell_type": "code",
      "source": [
        "x_train, x_test, y_train, y_test = train_test_split(x, y, test_size=0.20)"
      ],
      "metadata": {
        "id": "MIwTdqY5TZUl"
      },
      "execution_count": 4,
      "outputs": []
    },
    {
      "cell_type": "markdown",
      "source": [
        "## Decision Tree"
      ],
      "metadata": {
        "id": "qM8biYrXUDt7"
      }
    },
    {
      "cell_type": "code",
      "source": [
        "tree_model = DecisionTreeRegressor(max_depth=7, random_state=0)\n",
        "tree_model.fit(x_train,y_train)\n",
        "\n",
        "tree_pred = tree_model.predict(x_test)\n"
      ],
      "metadata": {
        "id": "c3P6FkRRUDfO"
      },
      "execution_count": 14,
      "outputs": []
    },
    {
      "cell_type": "code",
      "source": [
        "r2_s = r2_score(y_test,tree_pred)\n",
        "mse_err = mean_squared_error(y_test,tree_pred)\n",
        "\n",
        "print(\"r2 score = \",r2_s,\"mse error = \",mse_err)"
      ],
      "metadata": {
        "colab": {
          "base_uri": "https://localhost:8080/"
        },
        "id": "TIeK7aJEVOpa",
        "outputId": "98f0eac0-ef55-4799-d2e6-34b7084f3697"
      },
      "execution_count": 16,
      "outputs": [
        {
          "output_type": "stream",
          "name": "stdout",
          "text": [
            "r2 score =  0.6570493905449846 mse error =  0.4517445278600446\n"
          ]
        }
      ]
    },
    {
      "cell_type": "markdown",
      "source": [
        "## Random Forest\n"
      ],
      "metadata": {
        "id": "BMKdhzrQVZLU"
      }
    },
    {
      "cell_type": "code",
      "source": [
        "forest_model = RandomForestRegressor(n_estimators=100, random_state=0)\n",
        "forest_model.fit(x_train,y_train)\n",
        "forest_pred = forest_model.predict(x_test)"
      ],
      "metadata": {
        "id": "Hg60XY3AVfFz"
      },
      "execution_count": 13,
      "outputs": []
    },
    {
      "cell_type": "code",
      "source": [
        "r2_s = r2_score(y_test,forest_pred)\n",
        "mse_err = mean_squared_error(y_test,forest_pred)\n",
        "\n",
        "print(\"r2 score = \",r2_s,\"mse error = \",mse_err)"
      ],
      "metadata": {
        "colab": {
          "base_uri": "https://localhost:8080/"
        },
        "id": "B1ceN7nTWbRA",
        "outputId": "1b2f11e4-479d-4605-b19a-2c1abd523e92"
      },
      "execution_count": 15,
      "outputs": [
        {
          "output_type": "stream",
          "name": "stdout",
          "text": [
            "r2 score =  0.8041072555105165 mse error =  0.2580356265038733\n"
          ]
        }
      ]
    },
    {
      "cell_type": "markdown",
      "source": [
        "## Ensemble"
      ],
      "metadata": {
        "id": "ZGAHkGSBWzFv"
      }
    },
    {
      "cell_type": "markdown",
      "source": [
        "### Voting Regressor\n"
      ],
      "metadata": {
        "id": "gvfy0ws3YTy2"
      }
    },
    {
      "cell_type": "code",
      "source": [
        "reg1 = GradientBoostingRegressor(random_state=1)\n",
        "reg2 = RandomForestRegressor(random_state=1)\n",
        "reg3 = LinearRegression()\n",
        "ereg = VotingRegressor(estimators=[('gb', reg1), ('rf', reg2), ('lr', reg3)])\n",
        "ereg = ereg.fit(x_train, y_train)\n",
        "ereg_predict = ereg.predict(x_test)"
      ],
      "metadata": {
        "id": "M7qoKsshW6Ez"
      },
      "execution_count": 9,
      "outputs": []
    },
    {
      "cell_type": "code",
      "source": [
        "r2_s = r2_score(y_test,ereg_predict)\n",
        "mse_err = mean_squared_error(y_test,ereg_predict)\n",
        "\n",
        "print(\"r2 score = \",r2_s,\"mse error = \",mse_err)"
      ],
      "metadata": {
        "colab": {
          "base_uri": "https://localhost:8080/"
        },
        "id": "56xJe8oFYAjL",
        "outputId": "e98046e5-2912-4f05-f004-bed8319326be"
      },
      "execution_count": 10,
      "outputs": [
        {
          "output_type": "stream",
          "name": "stdout",
          "text": [
            "r2 score =  0.7725251211061298 mse error =  0.29963653346244096\n"
          ]
        }
      ]
    },
    {
      "cell_type": "markdown",
      "source": [
        "### Adaboost"
      ],
      "metadata": {
        "id": "UYfu95yTYXIf"
      }
    },
    {
      "cell_type": "code",
      "source": [
        "regr = AdaBoostRegressor(random_state=0, n_estimators=100)\n",
        "regr.fit(x_train, y_train)\n",
        "regr_pred = regr.predict(x_test)"
      ],
      "metadata": {
        "id": "hCAia_YjYaBm"
      },
      "execution_count": 11,
      "outputs": []
    },
    {
      "cell_type": "code",
      "source": [
        "r2_s = r2_score(y_test,regr_pred)\n",
        "mse_err = mean_squared_error(y_test,regr_pred)\n",
        "\n",
        "print(\"r2 score = \",r2_s,\"mse error = \",mse_err)"
      ],
      "metadata": {
        "colab": {
          "base_uri": "https://localhost:8080/"
        },
        "id": "9ozwu_asY6St",
        "outputId": "09a46d33-495f-4c30-e771-56cb874fb4c3"
      },
      "execution_count": 12,
      "outputs": [
        {
          "output_type": "stream",
          "name": "stdout",
          "text": [
            "r2 score =  0.3839080234863804 mse error =  0.8115342891233828\n"
          ]
        }
      ]
    }
  ]
}